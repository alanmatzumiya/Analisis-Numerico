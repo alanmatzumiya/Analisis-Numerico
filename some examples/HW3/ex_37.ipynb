{
 "cells": [
  {
   "cell_type": "code",
   "execution_count": 1,
   "metadata": {
    "collapsed": true
   },
   "outputs": [],
   "source": [
    "%matplotlib inline\n",
    "%config InlineBackend.figure_format='svg'\n",
    "from mpl_toolkits.mplot3d import Axes3D\n",
    "from matplotlib.collections import LineCollection\n",
    "from numpy import pi,linspace,sin,exp,round,zeros,arange,real, tan\n",
    "from numpy.fft import fft,ifft\n",
    "from matplotlib.pyplot import figure\n",
    "from time import time\n",
    "from scipy.linalg import toeplitz"
   ]
  },
  {
   "cell_type": "code",
   "execution_count": 2,
   "metadata": {
    "collapsed": false
   },
   "outputs": [
    {
     "name": "stdout",
     "output_type": "stream",
     "text": [
      "Time_FFT = [0.0384068489074707, 0.11110377311706543, 0.22235321998596191, 0.5486018657684326]\n",
      "Time_matrix = [0.13942384719848633, 0.47411108016967773, 2.7295761108398438, 24.786754846572876]\n"
     ]
    }
   ],
   "source": [
    "M = [128, 258, 512, 1024]\n",
    "T = []\n",
    "for N in M:\n",
    "    ti1 = time()\n",
    "    # Set up grid and differentiation matrix:\n",
    "    h = 2*pi/N; x = h*arange(1,N+1);\n",
    "    t = 0.0; dt = h/4.0\n",
    "    c = 0.2 + sin(x-1.0)**2.0\n",
    "    v = exp(-100.0*(x-1.0)**2.0); vold = exp(-100.0*(x-0.2*dt-1.0)**2.0);\n",
    "\n",
    "    # Time-stepping by leap-frog formula\n",
    "    tmax = 8.0; tplot = 0.15;\n",
    "    plotgap = int(round(tplot/dt)); dt = tplot/plotgap;\n",
    "    nplots = int(round(tmax/tplot))\n",
    "    data = []\n",
    "    data.append(list(zip(x, v)))\n",
    "    tdata = zeros(nplots+1)\n",
    "    tf1 = time()\n",
    "    \n",
    "    t1 = tf1 - ti1\n",
    "    \n",
    "    for j in range(2):\n",
    "        ti2 = time()\n",
    "        for i in range(1,nplots):\n",
    "            for n in range(plotgap):\n",
    "                t = t + dt\n",
    "                if j==0:\n",
    "                    v_hat = fft(v)\n",
    "                    w_hat = 1j*zeros(N)\n",
    "                    w_hat[0:N/2] = 1j*arange(0,N/2)\n",
    "                    w_hat[N/2+1:] = 1j*arange(-N/2+1,0,1)\n",
    "                    w_hat = w_hat * v_hat\n",
    "                    w = real(ifft(w_hat)) \n",
    "                elif j==1:\n",
    "                    col = zeros(N)\n",
    "                    col[1:] = 0.5*(-1.0)**arange(1,N)/tan(arange(1,N)*h/2.0)\n",
    "                    row = zeros(N)\n",
    "                    row[0] = col[0]\n",
    "                    row[1:] = col[N-1:0:-1]\n",
    "                    D = toeplitz(col,row)    \n",
    "                    w = D.dot(v)             # differentiation matrix:\n",
    "                vnew = vold - 2.0*dt*c*w\n",
    "                vold = v; v = vnew;\n",
    "            data.append(list(zip(x, v)))\n",
    "            tdata[i] = t;\n",
    "        tf2 = time()\n",
    "        t2 = tf2 - ti2\n",
    "        t_exe = t1 + t2\n",
    "        T.append(t_exe)\n",
    "\n",
    "print 'Time_FFT =', T[0:len(T):2]\n",
    "print 'Time_matrix =', T[1:len(T):2]\n",
    "\n"
   ]
  },
  {
   "cell_type": "code",
   "execution_count": null,
   "metadata": {
    "collapsed": true
   },
   "outputs": [],
   "source": []
  }
 ],
 "metadata": {
  "anaconda-cloud": {},
  "kernelspec": {
   "display_name": "Python [conda env:anaconda2]",
   "language": "python",
   "name": "conda-env-anaconda2-py"
  },
  "language_info": {
   "codemirror_mode": {
    "name": "ipython",
    "version": 2
   },
   "file_extension": ".py",
   "mimetype": "text/x-python",
   "name": "python",
   "nbconvert_exporter": "python",
   "pygments_lexer": "ipython2",
   "version": "2.7.12"
  }
 },
 "nbformat": 4,
 "nbformat_minor": 2
}
