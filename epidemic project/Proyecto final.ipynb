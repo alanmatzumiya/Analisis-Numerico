{
 "cells": [
  {
   "cell_type": "markdown",
   "metadata": {
    "collapsed": true
   },
   "source": [
    "## Estimación del número de reproducción básica de una epidemia de dengue para una sola cepa."
   ]
  },
  {
   "cell_type": "markdown",
   "metadata": {
    "collapsed": true
   },
   "source": [
    "## 1. Descripcion del modelo.\n",
    "\n",
    "Una medida simple pero eficaz de la transmisibilidad de una enfermedad infecciosa viene dada por el número de reproducción básica $R_0$, definido como el número total de infecciones secundarias producidas por la introducción de un único infeccioso en una población completamente susceptible [7].\n",
    "\n",
    "Para las enfermedades transmitidas por vectores como la malaria y el dengue, $R_0$ es el número de casos secundarios producidos por un solo vector infeccioso introducido en una población huésped y vector completamente susceptible.\n",
    "\n",
    "En general, para los modelos epidémicos simples, si $R_0$ es mayor que la unidad se producirá una epidemia mientras que si $R_0$ es menor que la unidad es muy probable que no ocurra un brote. Por lo tanto, el valor de $R_0$ se puede utilizar para determinar la intensidad de las medidas de control que deben aplicarse para contener la epidemia.\n",
    "\n",
    "El siguiente sistema de ecuaciones diferenciales ordinarias es un modelo epidemiologico determinista del tipo vector-huesped, donde el vector es el mosquito y el huesped es el humano, que tiene como objetivo determinar el número de reproducción básica para una epidemia de dengue.\n"
   ]
  },
  {
   "cell_type": "markdown",
   "metadata": {
    "collapsed": true
   },
   "source": [
    "\n",
    "Matematicamente, el modelo es el siguiente:\n",
    "$$\n",
    "\t\\begin{align*}\n",
    "\t\t\\frac{dS_H}{dt} &= \\Pi_H + \\lambda_H S_H - \\mu S \\\\\n",
    "\t\t\\frac{dE_H}{dt} &= \\lambda_H S_H - (\\sigma_H + \\mu)E_H \\\\\n",
    "\t\t\\frac{dI_H}{dt} &= \\sigma_H E_H - (\\tau_H + \\mu + \\delta_H)I_H \\\\\n",
    "\t\t\\frac{dR_H}{dt} &= \\tau_H I_H - \\mu R_H \\\\\t\n",
    "\t\t\\frac{dS_V}{dt} &= \\Pi_V + \\lambda_V S_V - \\mu_V S \\\\\n",
    "\t\t\\frac{dE_V}{dt} &= \\lambda_V S_V - (\\sigma_V + \\mu_V)E_V \\\\\n",
    "\t\t\\frac{dI_V}{dt} &= \\sigma_V E_V - (\\tau_H + \\mu_V + \\delta_V)I_V \\\\\t\n",
    "\t\\end{align*}\n",
    "$$   \n",
    "Donde:\n",
    "$$\n",
    "\t\\begin{align*}\n",
    "\t\\lambda_H = C_{HV}\\frac{I_V}{N_H}\\\\\n",
    "\t\\lambda_V = C_{HV}\\frac{I_H}{N_H}\\\\\n",
    "\t\\end{align*}\n",
    "$$    \n",
    "        "
   ]
  },
  {
   "cell_type": "markdown",
   "metadata": {
    "collapsed": true
   },
   "source": [
    "## 2. Planteamientos e hipotesis del modelo.\n",
    "* Este modelo asume que la poblacion de huespedes y vectores estan distribuidos homogeneamente.\n",
    "\n",
    "* La poblacion de humanos que se recuperan de la infecccion debido a un serotipo de dengue en particular se vuelven inmunes $[1]$.\n",
    "\n",
    "* Los vectores infectados por un serotipo en particular de dengue nunca se recuperan $[1]$.\n",
    "\n",
    "* También se modifico el modelo original de Garba et al. $[3]$ asumiendo que los seres humanos expuestos y los vectores expuestos no transmiten la enfermedad.\n",
    "\n",
    "* El modelo supone que la población humana susceptible $S_H$ tiene una tasa de reclutamiento constante $\\Pi_H$ y una tasa de mortalidad natural $\\mu$.\n",
    "\n",
    "* Los individuos susceptibles se infectan con el virus del dengue debido al contacto con los vectores infectados a una velocidad $\\lambda_H$ y estos entran en la clase expuesta $E_H$.\n",
    "\n",
    "* La población expuesta $E_H$ decrece a una tasa de mortalidad natural $\\mu$ y los individuos expuestos que desarrollan síntomas se mueven a la clase $I_H$ infectada a una tasa $\\sigma_H$.\n",
    "\n",
    "* La población infectada $I_H$ decrece debido a la tasa de mortalidad natural $\\mu$, la tasa de mortalidad inducida por la enfermedad $\\delta_H$ y la tasa de recuperación de los individuos infectados $\\tau_H$.\n",
    "\n",
    "* La población recuperada $R_H$ disminuye debido a la tasa de mortalidad natural $\\mu$.\n",
    "\n",
    "* La población vector $S_V$ susceptible tiene una tasa de reclutamiento constante $\\Pi_V$ y una tasa de mortalidad natural\n",
    "\n",
    "* Los vectores sensibles están infectados con el virus del Dengue (debido al contacto efectivo con seres humanos infectados) a una velocidad $\\lambda_V$ y luego se mueven a la clase de vector expuesta $E_V$.\n",
    "\n",
    "* La clase expuesta del vector $E_V$ decrece a una tasa de mortalidad natural $\\lambda_V$.\n",
    "\n",
    "* Los vectores expuestos desarrollan síntomas y se desplazan al vector infectado de clase $I_V$ a una velocidad $\\sigma_V$.Los vectores infectados, además de la tasa de mortalidad natural $\\mu_V$, muere a una tasa de mortalidad inducida por la enfermedad $\\delta_V$.\n",
    "\n",
    "## 3. Descripcion de las variables y parametros.\n",
    "## 3.1. Variables del sistema:\n",
    "\n",
    "* $N(t)$ :  Esta variable representa el total de la poblacion de humanos para un tiempo $t$ y se divide en cuatro clases: $S_H, E_H, I_H, R_H$.\n",
    "\n",
    "* $S_H(t)$ : Poblacion de humanos susceptibles a un tiempo $t$.\n",
    "\n",
    "* $E_H(t)$ : Humanos expuestos a un tiempo $t$.\n",
    "\n",
    "* $I_H(t)$ : Humanos infectados a un tiempo $t$.\n",
    "\n",
    "* $R_H(t)$ : Humanos recuperados a un tiempo $t$.\n",
    "\n",
    "* $N_V (t)$ : Esta variable representa la poblacion total de vectores para un tiempo $t$ y se divide en tres clases: $S_V, E_V, I_V$.\n",
    "\n",
    "* $S_V (t)$ : Vectores susceptibles para un tiempo $t$.\n",
    "\n",
    "* $E_V (t)$ : Vectores expuestos para un tiempo $t$.\n",
    "\n",
    "* $I_V (t)$ : Vectores infectados para un tiempo $t$.\n",
    "\n",
    "## 3.2. Parametros del sistema:\n",
    "\n",
    "* $\\Pi_H$ :  Tasa de reclutamiento de la poblacion $S_H (t)$.\n",
    "\n",
    "* $\\Pi_V$ :  Tasa de reclutamiento de la poblacion $S_V (t)$.\n",
    "\n",
    "* $\\mu$ : Tasa de mortalidad natural de la poblacion $S_H (t)$.\n",
    "\n",
    "* $\\delta_H$ : Tasa de mortalidad de la poblacion $I_H$ debido a la enfermedad.\n",
    "\n",
    "* $\\mu_V$ : Tasa de mortalidad natural de la poblacion $S_V (t)$.\n",
    "    \n",
    "* $\\delta_V$ : Tasa de mortalidad de la poblacion $I_V$ debido a la enfermedad.\n",
    "\n",
    "* $\\sigma_H$ : Velocidad con la cual los individuos de la clase expuesta pasa a ser parte de la clase infectada $I_H$ al desarrollar sintomas.\n",
    "\n",
    "* $\\tau_H$ : Tasa de recuperacion de los individuos infectados $I_H$.\n",
    "\n",
    "* $\\sigma_V$ : Velocidad con la cual los individuos de la clase expuesta $E_V$ pasa a ser parte de la clase infectada $I_V$ al desarrollar sintomas.\n",
    "\n",
    "* $\\lambda_H$ : Velocidad con la cual la poblacion susceptible $S_H(t)$ es infectada del virus, asi dando entrada a nueva poblacion expuesta $E_H$.\n",
    "    \n",
    "* $\\lambda_V$ : Velocidad con la cual la poblacion susceptible $S_V(t)$ es infectada del virus, asi dando entrada a nueva poblacion expuesta $E_V$.\n",
    "\n",
    "* $C_{VH}$ : Tasa de contacto eficaz.\n",
    "\n",
    "Los datos epidemiológicos utilizados en este estudio fueron recogidos por Punjab Disaster Management Authority de Punjab (PDMA) durante la epidemia de dengue de 2011 en Punjab, Pakistán.\n",
    "\n",
    "Para este modelo se ha utilizado ajuste por mínimos cuadrados ordinarios a los datos  para estimar los parámetros del modelo [5, 6, 8].\n",
    "\n",
    "La mayoría de los estudios anteriores han utilizado valores asumidos para la tasa de contacto eficaz $C_{VH}$. [2 - 4]\n",
    "\n",
    "Además, para tener en cuenta el efecto de las medidas de control que se implementaron durante la epidemia real, se asumio que la tasa de transmisión eficaz $C_{HV}$ es una función del tiempo $t$, ademas de que se supuso que la velocidad de transmisión fue constante hasta el momento en que se implementaron las medidas de control, tras lo cual cambió a un valor constante diferente.\n",
    "\n",
    "Para la funcion de $C_{HV}$, donde $t^*$ es el momento en que se implementaron las medidas de control, para los fines de este estudio y en vista de que no hay información concreta disponible al respecto, se ha supuesto que $t^* = 8$ semanas.\n",
    "\n",
    "La aplicación del algoritmo por mínimos cuadrados ordinarios al modelo vector-host da como resultado un valor de $C_{HV1} = 8.1897$ semanas$^{-1}$ antes de la implementación de las medidas de control y un valor de $C_{HV2} = 0.9523$ semanas$^{-1}$ después de la aplicación de medidas de control.\n",
    "\n",
    "Así, se obtuvo una estimación de $R_0 = 2.9871$ antes de la implementación de las medidas de control y $R_0 = 0.3473$ después de la implementación de las medidas de control.\n",
    "\n"
   ]
  },
  {
   "cell_type": "markdown",
   "metadata": {
    "collapsed": true
   },
   "source": [
    "|          Variables         |          Valores numericos          |\n",
    "|:--------------------------:|:-----------------------------------:|\n",
    "|          $S_H(t)$          |               1 millon              |\n",
    "|          $E_H(t)$          |                  15                 |\n",
    "|          $I_H(t)$          |                   3                 |\n",
    "|          $R_H(t)$          |                   0                 |\n",
    "|          $S_V (t)$         |               0.1 miillon           |\n",
    "|          $E_V (t)$         |                  60                 |\n",
    "|          $I_V (t)$         |                  20                 |\n",
    "\n",
    "                   Cuadro 1. Valores numericos de las condiciones iniciales utilizados en la simulacion."
   ]
  },
  {
   "cell_type": "markdown",
   "metadata": {},
   "source": [
    "|          Parametros         |          Valores numericos          |              Unidades              |\n",
    "|:---------------------------:|:-----------------------------------:|:-----------------------------------:\n",
    "|            $\\pi_H$          |                 140                 |            semanas$^{-1}$          |\n",
    "|            $\\pi_V$          |                28,000               |            semanas$^{-1}$          |\n",
    "|        $\\frac{1}{\\mu}$      |                 3494                |               semanas              |\n",
    "|            $\\delta_H$       |                0.0035               |            semanas$^{-1}$          |\n",
    "|        $\\frac{1}{\\mu_V}$    |                  2                  |               semanas              |\n",
    "|            $\\delta_V$       |                 0.01                |               semanas              |\n",
    "|        $\\frac{1}{\\sigma_H}$ |                  1                  |               semanas              |\n",
    "|        $\\frac{1}{\\tau_H}$   |                  1                  |               semanas              |\n",
    "|        $\\frac{1}{\\sigma_V}$ |             $\\frac{7}{10}$          |               semanas              |\n",
    "\n",
    "                         Cuadro 2. Valores numericos de los parametros utilizados en la simulacion."
   ]
  },
  {
   "cell_type": "markdown",
   "metadata": {},
   "source": [
    "# 4. Simulacion del sistema.\n",
    "\n",
    "En los siguientes codigos se implementaron distintos metodos numericos para dar solucion al sistema de ecuaciones diferenciales  utilizando los valores mencionados anteriormente.\n",
    "\n",
    "Para comparar los distintos metodos se utilizaron particiones $h$ iguales de 0.035 en un intervalo de tiempo en semanas desde 0 a 35 semanas."
   ]
  },
  {
   "cell_type": "markdown",
   "metadata": {
    "collapsed": true
   },
   "source": [
    "# 4.1. Solucion por odeint.\n",
    "\n",
    "El siguiente codigo es una simulacion de la solucion del sistema obtenida por medio de odeint que reproduce graficas de cada variable del sistema en funcion del tiempo, y ademas de una tabla de valores obtenidos a distintos tiempos\n"
   ]
  },
  {
   "cell_type": "markdown",
   "metadata": {
    "collapsed": true
   },
   "source": [
    "run odeint.py"
   ]
  },
  {
   "cell_type": "markdown",
   "metadata": {
    "collapsed": true
   },
   "source": [
    "# 4.2. Solucion por el metodo de Euler.\n",
    "\n",
    "El siguiente codigo es una simulacion de la solucion del sistema obtenida por medio del metodo de euler, y reproduce graficas de cada variable del sistema en funcion del tiempo y ademas de una tabla de valores obtenidos a distintos tiempo.\n",
    "\n",
    "Para ello se utilizaron las siguientes ecuaciones:\n",
    "\n",
    "El sistema mencionado anteriormente se puede representar de la siguiente manera:\n",
    "    \n",
    "$$\n",
    "\t\t\\begin{align*}\n",
    "\t\tf_1 &= \\Pi_H + \\lambda_H S_H - \\mu S \\\\\n",
    "\t\tf_2 &= \\lambda_H S_H - (\\sigma_H + \\mu)E_H \\\\\n",
    "\t\tf_3 &= \\sigma_H E_H - (\\tau_H + \\mu + \\delta_H)I_H \\\\\n",
    "\t\tf_4 &= \\tau_H I_H - \\mu R_H \\\\\t\n",
    "\t\tf_5 &= \\Pi_V + \\lambda_V S_V - \\mu_V S \\\\\n",
    "\t\tf_6 &= \\lambda_V S_V - (\\sigma_V + \\mu_V)E_V \\\\\n",
    "\t\tf_7 &= \\sigma_V E_V - (\\tau_H + \\mu_V + \\delta_V)I_V \\\\\n",
    "\t\t\\end{align*}\n",
    "$$\n",
    "\n",
    "Si denotamos a $X$ como el siguiente vector de funciones:\n",
    "$$\n",
    "\\begin{align}\n",
    "\t\tX = (f_1, f_2, f_3, f_4, f_5, f_6, f_7)\n",
    "\\end{align}\n",
    "$$\n",
    "\n",
    "Podriamos definir al sistema de ecuaciones diferenciales por la siguiente funcion $f'$ con su respectiva condiciones inicial $X_0$:\n",
    "\n",
    "$$\n",
    "\\begin{align}\n",
    "\t\tf' (t, X); X_0 = (S_{H0}, E_{H0}, I_{H0}, R_{H0}, S_{V0}, E_{V0}, I_{V0})\n",
    "\\end{align}\n",
    "$$\n",
    "\n",
    "Implementando el metodo de euler a este sistema quedaria como sigue:\n",
    "    \n",
    "$$    \n",
    "\\begin{align}\n",
    "\t\tX_{n+1} = X_n + hf'(t_n , X_n)\n",
    "\\end{align}\n",
    "$$\n",
    "\n",
    "Donde $X_{n+1}$ es la solucion del sistema al tiempo $t_{n+1}$ y $h$ es la particion de los subintervalos."
   ]
  },
  {
   "cell_type": "markdown",
   "metadata": {},
   "source": [
    "run euler_method.py"
   ]
  },
  {
   "cell_type": "markdown",
   "metadata": {
    "collapsed": true
   },
   "source": [
    "# 4.3. Solucion por el metodo de Runge-Kutta de orden 4.\n",
    "\n",
    "El siguiente codigo es una simulacion de la solucion del sistema obtenida por medio del metodo de Runge-Kutta de orden 4, y reproduce graficas de cada variable del sistema en funcion del tiempo, ademas de una tabla de valores obtenidos a distintos tiempo.\n",
    "\n",
    "Para este metodo se utilizaron las siguientes ecuaciones:\n",
    "    \n",
    "$$   \n",
    "\\begin{align}\n",
    "\t\tX_{n+1} = X_n + \\frac{h}{6}(k_1 + 2k_2 + 2k_3 + k_4)\n",
    "\\end{align}\n",
    "$$\n",
    "\n",
    "Donde:\n",
    "\n",
    "$$\n",
    "\\begin{align*}\n",
    "\t\tk_1 &= f'(t_n , X_n)\\\\\n",
    "\t\tk_2 &= f'(t_n + \\frac{1}{2}h , X_n + \\frac{1}{2}k_1h)\\\\\n",
    "\t\tk_3 &= f'(t_n + \\frac{1}{2}h , X_n + \\frac{1}{2}k_2h)\\\\\n",
    "\t\tk_4 &= f'(t_n + h , X_n + k_3h)\\\\\n",
    "\\end{align*}\n",
    "$$"
   ]
  },
  {
   "cell_type": "markdown",
   "metadata": {},
   "source": [
    "run rk4_method.py"
   ]
  },
  {
   "cell_type": "markdown",
   "metadata": {
    "collapsed": true
   },
   "source": [
    "# 5. Bibliografia\n",
    "\n",
    "\n",
    "\n",
    " \n",
    "1. World Health Organization: dengue and severe dengue fact sheet. 2012. [http://www.who.int/mediacentre/factsheets/fs117/en/]\n",
    "   \n",
    "2. Garba SM, Gumel AB: Abu Bakar MR: Backward bifurcations in dengue transmission dynamics. Math Biosci 2008, 215:11–25.\n",
    "           \n",
    "3. Garba S, Gumel A: Effect of cross-immunity on the transmission dynamics of two strains of dengue. Int J Comput Math 2010, 87(10):2361–2384.\n",
    "\n",
    "4. Wearing HJ, Rohani P: Ecological and immunological determinants of dengue epidemics. Proc Natl Acad Sci 2006, 103(31):11802–11807.\n",
    "\n",
    "5. Chowell G, Diaz-Dueñas P, Miller J, Alcazar-Velazco A, Hyman J, Fenimore P, Castillo-Chavez C: Estimation of the reproduction number of dengue fever from spatial epidemic data. Math Biosci 2007, 208(2):571–589.\n",
    "\n",
    "6. Cintrón-Arias A, Castillo-Chávez C, Bettencourt LM, Lloyd AL, Banks H: The estimation of the effective reproductive number from disease outbreak data. Math Biosci Eng 2009, 6(2):261–282.\n",
    "\n",
    "7. Van den Driessche P, Watmough J: Reproduction numbers and sub-threshold endemic equilibria for compartmental models of disease transmission. Math Biosci 2002, 180:29–48.\n",
    "\n",
    "8. Chowell G, Hengartner N, Castillo-Chavez C, Fenimore F, Hyman J: The basic reproductive number of Ebola and effects of public health measures: the cases of Congo and Uganda. J Theor Biol 2004, 229:119–126."
   ]
  },
  {
   "cell_type": "code",
   "execution_count": null,
   "metadata": {
    "collapsed": true
   },
   "outputs": [],
   "source": []
  }
 ],
 "metadata": {
  "anaconda-cloud": {},
  "kernelspec": {
   "display_name": "Python 3",
   "language": "python",
   "name": "python3"
  },
  "language_info": {
   "codemirror_mode": {
    "name": "ipython",
    "version": 3
   },
   "file_extension": ".py",
   "mimetype": "text/x-python",
   "name": "python",
   "nbconvert_exporter": "python",
   "pygments_lexer": "ipython3",
   "version": "3.7.6"
  }
 },
 "nbformat": 4,
 "nbformat_minor": 1
}
